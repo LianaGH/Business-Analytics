{
 "cells": [
  {
   "cell_type": "code",
   "execution_count": 104,
   "metadata": {},
   "outputs": [],
   "source": [
    "import numpy as np\n",
    "import pandas as pd\n",
    "import matplotlib.pyplot as plt\n",
    "import seaborn as sns\n",
    "from statsmodels.discrete.discrete_model import Logit\n",
    "from sklearn.metrics import roc_auc_score, roc_curve, recall_score\n",
    "from sklearn.model_selection import train_test_split\n",
    "from sklearn.metrics import confusion_matrix, classification_report\n",
    "import statsmodels.tools as sm\n",
    "from sklearn.linear_model import LogisticRegression\n",
    "from sklearn.tree import DecisionTreeClassifier\n",
    "import scikitplot as skplt\n",
    "from sklearn.tree import export_graphviz\n",
    "from sklearn.model_selection import train_test_split, cross_val_score,GridSearchCV"
   ]
  },
  {
   "cell_type": "code",
   "execution_count": 47,
   "metadata": {},
   "outputs": [
    {
     "name": "stdout",
     "output_type": "stream",
     "text": [
      "Requirement already satisfied: scikit-plot in c:\\users\\arsen\\anaconda3\\lib\\site-packages (0.3.7)\n",
      "Requirement already satisfied: scikit-learn>=0.18 in c:\\users\\arsen\\anaconda3\\lib\\site-packages (from scikit-plot) (0.20.1)\n",
      "Requirement already satisfied: joblib>=0.10 in c:\\users\\arsen\\anaconda3\\lib\\site-packages (from scikit-plot) (0.13.2)\n",
      "Requirement already satisfied: scipy>=0.9 in c:\\users\\arsen\\anaconda3\\lib\\site-packages (from scikit-plot) (1.1.0)\n",
      "Requirement already satisfied: matplotlib>=1.4.0 in c:\\users\\arsen\\anaconda3\\lib\\site-packages (from scikit-plot) (3.0.2)\n",
      "Requirement already satisfied: numpy>=1.8.2 in c:\\users\\arsen\\anaconda3\\lib\\site-packages (from scikit-learn>=0.18->scikit-plot) (1.15.4)\n",
      "Requirement already satisfied: cycler>=0.10 in c:\\users\\arsen\\anaconda3\\lib\\site-packages (from matplotlib>=1.4.0->scikit-plot) (0.10.0)\n",
      "Requirement already satisfied: kiwisolver>=1.0.1 in c:\\users\\arsen\\anaconda3\\lib\\site-packages (from matplotlib>=1.4.0->scikit-plot) (1.0.1)\n",
      "Requirement already satisfied: pyparsing!=2.0.4,!=2.1.2,!=2.1.6,>=2.0.1 in c:\\users\\arsen\\anaconda3\\lib\\site-packages (from matplotlib>=1.4.0->scikit-plot) (2.3.0)\n",
      "Requirement already satisfied: python-dateutil>=2.1 in c:\\users\\arsen\\anaconda3\\lib\\site-packages (from matplotlib>=1.4.0->scikit-plot) (2.7.5)\n",
      "Requirement already satisfied: six in c:\\users\\arsen\\anaconda3\\lib\\site-packages (from cycler>=0.10->matplotlib>=1.4.0->scikit-plot) (1.12.0)\n",
      "Requirement already satisfied: setuptools in c:\\users\\arsen\\anaconda3\\lib\\site-packages (from kiwisolver>=1.0.1->matplotlib>=1.4.0->scikit-plot) (40.6.3)\n"
     ]
    }
   ],
   "source": [
    "!pip install scikit-plot"
   ]
  },
  {
   "cell_type": "markdown",
   "metadata": {},
   "source": [
    "# 1. Reading the Dataset"
   ]
  },
  {
   "cell_type": "code",
   "execution_count": 105,
   "metadata": {},
   "outputs": [],
   "source": [
    "data=pd.read_excel(\"Telecom_Churn.xls\")"
   ]
  },
  {
   "cell_type": "code",
   "execution_count": 106,
   "metadata": {},
   "outputs": [
    {
     "name": "stdout",
     "output_type": "stream",
     "text": [
      "<class 'pandas.core.frame.DataFrame'>\n",
      "RangeIndex: 3333 entries, 0 to 3332\n",
      "Data columns (total 21 columns):\n",
      "Account Length    3333 non-null int64\n",
      "VMail Message     3333 non-null int64\n",
      "Day Mins          3333 non-null float64\n",
      "Eve Mins          3333 non-null float64\n",
      "Night Mins        3333 non-null float64\n",
      "Intl Mins         3333 non-null float64\n",
      "CustServ Calls    3333 non-null int64\n",
      "Churn             3333 non-null int64\n",
      "Int'l Plan        3333 non-null int64\n",
      "VMail Plan        3333 non-null int64\n",
      "Day Calls         3333 non-null int64\n",
      "Day Charge        3333 non-null float64\n",
      "Eve Calls         3333 non-null int64\n",
      "Eve Charge        3333 non-null float64\n",
      "Night Calls       3333 non-null int64\n",
      "Night Charge      3333 non-null float64\n",
      "Intl Calls        3333 non-null int64\n",
      "Intl Charge       3333 non-null float64\n",
      "State             3333 non-null object\n",
      "Area Code         3333 non-null int64\n",
      "Phone             3333 non-null object\n",
      "dtypes: float64(8), int64(11), object(2)\n",
      "memory usage: 546.9+ KB\n"
     ]
    }
   ],
   "source": [
    "data.info()"
   ]
  },
  {
   "cell_type": "code",
   "execution_count": 107,
   "metadata": {},
   "outputs": [
    {
     "data": {
      "text/html": [
       "<div>\n",
       "<style scoped>\n",
       "    .dataframe tbody tr th:only-of-type {\n",
       "        vertical-align: middle;\n",
       "    }\n",
       "\n",
       "    .dataframe tbody tr th {\n",
       "        vertical-align: top;\n",
       "    }\n",
       "\n",
       "    .dataframe thead th {\n",
       "        text-align: right;\n",
       "    }\n",
       "</style>\n",
       "<table border=\"1\" class=\"dataframe\">\n",
       "  <thead>\n",
       "    <tr style=\"text-align: right;\">\n",
       "      <th></th>\n",
       "      <th>Account Length</th>\n",
       "      <th>VMail Message</th>\n",
       "      <th>Day Mins</th>\n",
       "      <th>Eve Mins</th>\n",
       "      <th>Night Mins</th>\n",
       "      <th>Intl Mins</th>\n",
       "      <th>CustServ Calls</th>\n",
       "      <th>Churn</th>\n",
       "      <th>Int'l Plan</th>\n",
       "      <th>VMail Plan</th>\n",
       "      <th>...</th>\n",
       "      <th>Day Charge</th>\n",
       "      <th>Eve Calls</th>\n",
       "      <th>Eve Charge</th>\n",
       "      <th>Night Calls</th>\n",
       "      <th>Night Charge</th>\n",
       "      <th>Intl Calls</th>\n",
       "      <th>Intl Charge</th>\n",
       "      <th>State</th>\n",
       "      <th>Area Code</th>\n",
       "      <th>Phone</th>\n",
       "    </tr>\n",
       "  </thead>\n",
       "  <tbody>\n",
       "    <tr>\n",
       "      <th>0</th>\n",
       "      <td>128</td>\n",
       "      <td>25</td>\n",
       "      <td>265.1</td>\n",
       "      <td>197.4</td>\n",
       "      <td>244.7</td>\n",
       "      <td>10.0</td>\n",
       "      <td>1</td>\n",
       "      <td>0</td>\n",
       "      <td>0</td>\n",
       "      <td>1</td>\n",
       "      <td>...</td>\n",
       "      <td>45.07</td>\n",
       "      <td>99</td>\n",
       "      <td>16.78</td>\n",
       "      <td>91</td>\n",
       "      <td>11.01</td>\n",
       "      <td>3</td>\n",
       "      <td>2.70</td>\n",
       "      <td>KS</td>\n",
       "      <td>415</td>\n",
       "      <td>382-4657</td>\n",
       "    </tr>\n",
       "    <tr>\n",
       "      <th>1</th>\n",
       "      <td>107</td>\n",
       "      <td>26</td>\n",
       "      <td>161.6</td>\n",
       "      <td>195.5</td>\n",
       "      <td>254.4</td>\n",
       "      <td>13.7</td>\n",
       "      <td>1</td>\n",
       "      <td>0</td>\n",
       "      <td>0</td>\n",
       "      <td>1</td>\n",
       "      <td>...</td>\n",
       "      <td>27.47</td>\n",
       "      <td>103</td>\n",
       "      <td>16.62</td>\n",
       "      <td>103</td>\n",
       "      <td>11.45</td>\n",
       "      <td>3</td>\n",
       "      <td>3.70</td>\n",
       "      <td>OH</td>\n",
       "      <td>415</td>\n",
       "      <td>371-7191</td>\n",
       "    </tr>\n",
       "    <tr>\n",
       "      <th>2</th>\n",
       "      <td>137</td>\n",
       "      <td>0</td>\n",
       "      <td>243.4</td>\n",
       "      <td>121.2</td>\n",
       "      <td>162.6</td>\n",
       "      <td>12.2</td>\n",
       "      <td>0</td>\n",
       "      <td>0</td>\n",
       "      <td>0</td>\n",
       "      <td>0</td>\n",
       "      <td>...</td>\n",
       "      <td>41.38</td>\n",
       "      <td>110</td>\n",
       "      <td>10.30</td>\n",
       "      <td>104</td>\n",
       "      <td>7.32</td>\n",
       "      <td>5</td>\n",
       "      <td>3.29</td>\n",
       "      <td>NJ</td>\n",
       "      <td>415</td>\n",
       "      <td>358-1921</td>\n",
       "    </tr>\n",
       "    <tr>\n",
       "      <th>3</th>\n",
       "      <td>84</td>\n",
       "      <td>0</td>\n",
       "      <td>299.4</td>\n",
       "      <td>61.9</td>\n",
       "      <td>196.9</td>\n",
       "      <td>6.6</td>\n",
       "      <td>2</td>\n",
       "      <td>0</td>\n",
       "      <td>1</td>\n",
       "      <td>0</td>\n",
       "      <td>...</td>\n",
       "      <td>50.90</td>\n",
       "      <td>88</td>\n",
       "      <td>5.26</td>\n",
       "      <td>89</td>\n",
       "      <td>8.86</td>\n",
       "      <td>7</td>\n",
       "      <td>1.78</td>\n",
       "      <td>OH</td>\n",
       "      <td>408</td>\n",
       "      <td>375-9999</td>\n",
       "    </tr>\n",
       "    <tr>\n",
       "      <th>4</th>\n",
       "      <td>75</td>\n",
       "      <td>0</td>\n",
       "      <td>166.7</td>\n",
       "      <td>148.3</td>\n",
       "      <td>186.9</td>\n",
       "      <td>10.1</td>\n",
       "      <td>3</td>\n",
       "      <td>0</td>\n",
       "      <td>1</td>\n",
       "      <td>0</td>\n",
       "      <td>...</td>\n",
       "      <td>28.34</td>\n",
       "      <td>122</td>\n",
       "      <td>12.61</td>\n",
       "      <td>121</td>\n",
       "      <td>8.41</td>\n",
       "      <td>3</td>\n",
       "      <td>2.73</td>\n",
       "      <td>OK</td>\n",
       "      <td>415</td>\n",
       "      <td>330-6626</td>\n",
       "    </tr>\n",
       "  </tbody>\n",
       "</table>\n",
       "<p>5 rows × 21 columns</p>\n",
       "</div>"
      ],
      "text/plain": [
       "   Account Length  VMail Message  Day Mins  Eve Mins  Night Mins  Intl Mins  \\\n",
       "0             128             25     265.1     197.4       244.7       10.0   \n",
       "1             107             26     161.6     195.5       254.4       13.7   \n",
       "2             137              0     243.4     121.2       162.6       12.2   \n",
       "3              84              0     299.4      61.9       196.9        6.6   \n",
       "4              75              0     166.7     148.3       186.9       10.1   \n",
       "\n",
       "   CustServ Calls  Churn  Int'l Plan  VMail Plan    ...     Day Charge  \\\n",
       "0               1      0           0           1    ...          45.07   \n",
       "1               1      0           0           1    ...          27.47   \n",
       "2               0      0           0           0    ...          41.38   \n",
       "3               2      0           1           0    ...          50.90   \n",
       "4               3      0           1           0    ...          28.34   \n",
       "\n",
       "   Eve Calls  Eve Charge  Night Calls  Night Charge  Intl Calls  Intl Charge  \\\n",
       "0         99       16.78           91         11.01           3         2.70   \n",
       "1        103       16.62          103         11.45           3         3.70   \n",
       "2        110       10.30          104          7.32           5         3.29   \n",
       "3         88        5.26           89          8.86           7         1.78   \n",
       "4        122       12.61          121          8.41           3         2.73   \n",
       "\n",
       "   State Area Code     Phone  \n",
       "0     KS       415  382-4657  \n",
       "1     OH       415  371-7191  \n",
       "2     NJ       415  358-1921  \n",
       "3     OH       408  375-9999  \n",
       "4     OK       415  330-6626  \n",
       "\n",
       "[5 rows x 21 columns]"
      ]
     },
     "execution_count": 107,
     "metadata": {},
     "output_type": "execute_result"
    }
   ],
   "source": [
    "data.head()"
   ]
  },
  {
   "cell_type": "code",
   "execution_count": 108,
   "metadata": {},
   "outputs": [],
   "source": [
    "data.drop(['Phone'],axis=1,inplace=True)\n",
    "data.drop(['State'],axis=1,inplace=True)"
   ]
  },
  {
   "cell_type": "markdown",
   "metadata": {},
   "source": [
    "# 2. Checking the Missing Values"
   ]
  },
  {
   "cell_type": "code",
   "execution_count": 101,
   "metadata": {},
   "outputs": [
    {
     "data": {
      "text/plain": [
       "Account Length    0\n",
       "VMail Message     0\n",
       "Day Mins          0\n",
       "Eve Mins          0\n",
       "Night Mins        0\n",
       "Intl Mins         0\n",
       "CustServ Calls    0\n",
       "Churn             0\n",
       "Int'l Plan        0\n",
       "VMail Plan        0\n",
       "Day Calls         0\n",
       "Day Charge        0\n",
       "Eve Calls         0\n",
       "Eve Charge        0\n",
       "Night Calls       0\n",
       "Night Charge      0\n",
       "Intl Calls        0\n",
       "Intl Charge       0\n",
       "State             0\n",
       "Area Code         0\n",
       "Phone             0\n",
       "dtype: int64"
      ]
     },
     "execution_count": 101,
     "metadata": {},
     "output_type": "execute_result"
    }
   ],
   "source": [
    "data.isna().sum()\n",
    "#there are no missing values"
   ]
  },
  {
   "cell_type": "markdown",
   "metadata": {},
   "source": [
    "# 3. Checking the variables with one value"
   ]
  },
  {
   "cell_type": "code",
   "execution_count": 102,
   "metadata": {},
   "outputs": [
    {
     "data": {
      "text/plain": [
       "Account Length    False\n",
       "VMail Message     False\n",
       "Day Mins          False\n",
       "Eve Mins          False\n",
       "Night Mins        False\n",
       "Intl Mins         False\n",
       "CustServ Calls    False\n",
       "Churn             False\n",
       "Int'l Plan        False\n",
       "VMail Plan        False\n",
       "Day Calls         False\n",
       "Day Charge        False\n",
       "Eve Calls         False\n",
       "Eve Charge        False\n",
       "Night Calls       False\n",
       "Night Charge      False\n",
       "Intl Calls        False\n",
       "Intl Charge       False\n",
       "Area Code         False\n",
       "dtype: bool"
      ]
     },
     "execution_count": 102,
     "metadata": {},
     "output_type": "execute_result"
    }
   ],
   "source": [
    "data.var()==0\n"
   ]
  },
  {
   "cell_type": "code",
   "execution_count": 103,
   "metadata": {},
   "outputs": [
    {
     "data": {
      "text/plain": [
       "Account Length     212\n",
       "VMail Message       46\n",
       "Day Mins          1667\n",
       "Eve Mins          1611\n",
       "Night Mins        1591\n",
       "Intl Mins          162\n",
       "CustServ Calls      10\n",
       "Churn                2\n",
       "Int'l Plan           2\n",
       "VMail Plan           2\n",
       "Day Calls          119\n",
       "Day Charge        1667\n",
       "Eve Calls          123\n",
       "Eve Charge        1440\n",
       "Night Calls        120\n",
       "Night Charge       933\n",
       "Intl Calls          21\n",
       "Intl Charge        162\n",
       "State               51\n",
       "Area Code            3\n",
       "Phone             3333\n",
       "dtype: int64"
      ]
     },
     "execution_count": 103,
     "metadata": {},
     "output_type": "execute_result"
    }
   ],
   "source": [
    "data.nunique()\n"
   ]
  },
  {
   "cell_type": "markdown",
   "metadata": {},
   "source": [
    "There are no variables having only one value"
   ]
  },
  {
   "cell_type": "markdown",
   "metadata": {},
   "source": [
    "# 4. Checking the correlation of features"
   ]
  },
  {
   "cell_type": "code",
   "execution_count": 54,
   "metadata": {},
   "outputs": [
    {
     "data": {
      "text/plain": [
       "<matplotlib.axes._subplots.AxesSubplot at 0x23c32068630>"
      ]
     },
     "execution_count": 54,
     "metadata": {},
     "output_type": "execute_result"
    },
    {
     "data": {
      "image/png": "[encoded data removed]",
      "text/plain": [
       "<Figure size 432x288 with 2 Axes>"
      ]
     },
     "metadata": {
      "needs_background": "light"
     },
     "output_type": "display_data"
    }
   ],
   "source": [
    "sns.heatmap(data.corr().abs().round(2),annot=True)"
   ]
  },
  {
   "cell_type": "code",
   "execution_count": 55,
   "metadata": {},
   "outputs": [
    {
     "data": {
      "image/png": "[encoded data removed]",
      "text/plain": [
       "<Figure size 432x288 with 1 Axes>"
      ]
     },
     "metadata": {
      "needs_background": "light"
     },
     "output_type": "display_data"
    },
    {
     "data": {
      "image/png": "[encoded data removed]",
      "text/plain": [
       "<Figure size 432x288 with 1 Axes>"
      ]
     },
     "metadata": {
      "needs_background": "light"
     },
     "output_type": "display_data"
    }
   ],
   "source": [
    "for i in [\"Intl Mins\",\"Intl Charge\"]:\n",
    "    sns.boxplot(data.Churn,data[i])\n",
    "    plt.title(i)\n",
    "    plt.show()"
   ]
  },
  {
   "cell_type": "code",
   "execution_count": 11,
   "metadata": {},
   "outputs": [
    {
     "data": {
      "image/png": "[encoded data removed]",
      "text/plain": [
       "<Figure size 432x288 with 1 Axes>"
      ]
     },
     "metadata": {
      "needs_background": "light"
     },
     "output_type": "display_data"
    },
    {
     "data": {
      "image/png": "[encoded data removed]",
      "text/plain": [
       "<Figure size 432x288 with 1 Axes>"
      ]
     },
     "metadata": {
      "needs_background": "light"
     },
     "output_type": "display_data"
    }
   ],
   "source": [
    "for i in [\"VMail Plan\",\"VMail Message\"]:\n",
    "    sns.boxplot(data.Churn,data[i])\n",
    "    plt.title(i)\n",
    "    plt.show()"
   ]
  },
  {
   "cell_type": "code",
   "execution_count": 109,
   "metadata": {},
   "outputs": [],
   "source": [
    "data.drop(['Intl Mins','Eve Charge','Day Mins','VMail Message'],axis=1,inplace=True)"
   ]
  },
  {
   "cell_type": "code",
   "execution_count": 13,
   "metadata": {},
   "outputs": [
    {
     "data": {
      "text/plain": [
       "<matplotlib.axes._subplots.AxesSubplot at 0x23c32943780>"
      ]
     },
     "execution_count": 13,
     "metadata": {},
     "output_type": "execute_result"
    },
    {
     "data": {
      "image/png": "[encoded data removed]",
      "text/plain": [
       "<Figure size 432x288 with 2 Axes>"
      ]
     },
     "metadata": {
      "needs_background": "light"
     },
     "output_type": "display_data"
    }
   ],
   "source": [
    "sns.heatmap(data.corr().abs().round(2),annot=True)"
   ]
  },
  {
   "cell_type": "code",
   "execution_count": 110,
   "metadata": {},
   "outputs": [],
   "source": [
    "data.drop(['Night Charge'],axis=1,inplace=True)"
   ]
  },
  {
   "cell_type": "code",
   "execution_count": 15,
   "metadata": {},
   "outputs": [
    {
     "data": {
      "text/plain": [
       "<matplotlib.axes._subplots.AxesSubplot at 0x23c323623c8>"
      ]
     },
     "execution_count": 15,
     "metadata": {},
     "output_type": "execute_result"
    },
    {
     "data": {
      "image/png": "[encoded data removed]",
      "text/plain": [
       "<Figure size 432x288 with 2 Axes>"
      ]
     },
     "metadata": {
      "needs_background": "light"
     },
     "output_type": "display_data"
    }
   ],
   "source": [
    "sns.heatmap(data.corr().abs().round(2),annot=True)"
   ]
  },
  {
   "cell_type": "code",
   "execution_count": 58,
   "metadata": {},
   "outputs": [],
   "source": [
    "data=pd.get_dummies(data,drop_first=True)"
   ]
  },
  {
   "cell_type": "code",
   "execution_count": 17,
   "metadata": {},
   "outputs": [
    {
     "data": {
      "text/html": [
       "<div>\n",
       "<style scoped>\n",
       "    .dataframe tbody tr th:only-of-type {\n",
       "        vertical-align: middle;\n",
       "    }\n",
       "\n",
       "    .dataframe tbody tr th {\n",
       "        vertical-align: top;\n",
       "    }\n",
       "\n",
       "    .dataframe thead th {\n",
       "        text-align: right;\n",
       "    }\n",
       "</style>\n",
       "<table border=\"1\" class=\"dataframe\">\n",
       "  <thead>\n",
       "    <tr style=\"text-align: right;\">\n",
       "      <th></th>\n",
       "      <th>Account Length</th>\n",
       "      <th>Eve Mins</th>\n",
       "      <th>Night Mins</th>\n",
       "      <th>CustServ Calls</th>\n",
       "      <th>Churn</th>\n",
       "      <th>Int'l Plan</th>\n",
       "      <th>VMail Plan</th>\n",
       "      <th>Day Calls</th>\n",
       "      <th>Day Charge</th>\n",
       "      <th>Eve Calls</th>\n",
       "      <th>...</th>\n",
       "      <th>State_SD</th>\n",
       "      <th>State_TN</th>\n",
       "      <th>State_TX</th>\n",
       "      <th>State_UT</th>\n",
       "      <th>State_VA</th>\n",
       "      <th>State_VT</th>\n",
       "      <th>State_WA</th>\n",
       "      <th>State_WI</th>\n",
       "      <th>State_WV</th>\n",
       "      <th>State_WY</th>\n",
       "    </tr>\n",
       "  </thead>\n",
       "  <tbody>\n",
       "    <tr>\n",
       "      <th>0</th>\n",
       "      <td>128</td>\n",
       "      <td>197.4</td>\n",
       "      <td>244.7</td>\n",
       "      <td>1</td>\n",
       "      <td>0</td>\n",
       "      <td>0</td>\n",
       "      <td>1</td>\n",
       "      <td>110</td>\n",
       "      <td>45.07</td>\n",
       "      <td>99</td>\n",
       "      <td>...</td>\n",
       "      <td>0</td>\n",
       "      <td>0</td>\n",
       "      <td>0</td>\n",
       "      <td>0</td>\n",
       "      <td>0</td>\n",
       "      <td>0</td>\n",
       "      <td>0</td>\n",
       "      <td>0</td>\n",
       "      <td>0</td>\n",
       "      <td>0</td>\n",
       "    </tr>\n",
       "    <tr>\n",
       "      <th>1</th>\n",
       "      <td>107</td>\n",
       "      <td>195.5</td>\n",
       "      <td>254.4</td>\n",
       "      <td>1</td>\n",
       "      <td>0</td>\n",
       "      <td>0</td>\n",
       "      <td>1</td>\n",
       "      <td>123</td>\n",
       "      <td>27.47</td>\n",
       "      <td>103</td>\n",
       "      <td>...</td>\n",
       "      <td>0</td>\n",
       "      <td>0</td>\n",
       "      <td>0</td>\n",
       "      <td>0</td>\n",
       "      <td>0</td>\n",
       "      <td>0</td>\n",
       "      <td>0</td>\n",
       "      <td>0</td>\n",
       "      <td>0</td>\n",
       "      <td>0</td>\n",
       "    </tr>\n",
       "    <tr>\n",
       "      <th>2</th>\n",
       "      <td>137</td>\n",
       "      <td>121.2</td>\n",
       "      <td>162.6</td>\n",
       "      <td>0</td>\n",
       "      <td>0</td>\n",
       "      <td>0</td>\n",
       "      <td>0</td>\n",
       "      <td>114</td>\n",
       "      <td>41.38</td>\n",
       "      <td>110</td>\n",
       "      <td>...</td>\n",
       "      <td>0</td>\n",
       "      <td>0</td>\n",
       "      <td>0</td>\n",
       "      <td>0</td>\n",
       "      <td>0</td>\n",
       "      <td>0</td>\n",
       "      <td>0</td>\n",
       "      <td>0</td>\n",
       "      <td>0</td>\n",
       "      <td>0</td>\n",
       "    </tr>\n",
       "    <tr>\n",
       "      <th>3</th>\n",
       "      <td>84</td>\n",
       "      <td>61.9</td>\n",
       "      <td>196.9</td>\n",
       "      <td>2</td>\n",
       "      <td>0</td>\n",
       "      <td>1</td>\n",
       "      <td>0</td>\n",
       "      <td>71</td>\n",
       "      <td>50.90</td>\n",
       "      <td>88</td>\n",
       "      <td>...</td>\n",
       "      <td>0</td>\n",
       "      <td>0</td>\n",
       "      <td>0</td>\n",
       "      <td>0</td>\n",
       "      <td>0</td>\n",
       "      <td>0</td>\n",
       "      <td>0</td>\n",
       "      <td>0</td>\n",
       "      <td>0</td>\n",
       "      <td>0</td>\n",
       "    </tr>\n",
       "    <tr>\n",
       "      <th>4</th>\n",
       "      <td>75</td>\n",
       "      <td>148.3</td>\n",
       "      <td>186.9</td>\n",
       "      <td>3</td>\n",
       "      <td>0</td>\n",
       "      <td>1</td>\n",
       "      <td>0</td>\n",
       "      <td>113</td>\n",
       "      <td>28.34</td>\n",
       "      <td>122</td>\n",
       "      <td>...</td>\n",
       "      <td>0</td>\n",
       "      <td>0</td>\n",
       "      <td>0</td>\n",
       "      <td>0</td>\n",
       "      <td>0</td>\n",
       "      <td>0</td>\n",
       "      <td>0</td>\n",
       "      <td>0</td>\n",
       "      <td>0</td>\n",
       "      <td>0</td>\n",
       "    </tr>\n",
       "  </tbody>\n",
       "</table>\n",
       "<p>5 rows × 64 columns</p>\n",
       "</div>"
      ],
      "text/plain": [
       "   Account Length  Eve Mins  Night Mins  CustServ Calls  Churn  Int'l Plan  \\\n",
       "0             128     197.4       244.7               1      0           0   \n",
       "1             107     195.5       254.4               1      0           0   \n",
       "2             137     121.2       162.6               0      0           0   \n",
       "3              84      61.9       196.9               2      0           1   \n",
       "4              75     148.3       186.9               3      0           1   \n",
       "\n",
       "   VMail Plan  Day Calls  Day Charge  Eve Calls    ...     State_SD  State_TN  \\\n",
       "0           1        110       45.07         99    ...            0         0   \n",
       "1           1        123       27.47        103    ...            0         0   \n",
       "2           0        114       41.38        110    ...            0         0   \n",
       "3           0         71       50.90         88    ...            0         0   \n",
       "4           0        113       28.34        122    ...            0         0   \n",
       "\n",
       "   State_TX  State_UT  State_VA  State_VT  State_WA  State_WI  State_WV  \\\n",
       "0         0         0         0         0         0         0         0   \n",
       "1         0         0         0         0         0         0         0   \n",
       "2         0         0         0         0         0         0         0   \n",
       "3         0         0         0         0         0         0         0   \n",
       "4         0         0         0         0         0         0         0   \n",
       "\n",
       "   State_WY  \n",
       "0         0  \n",
       "1         0  \n",
       "2         0  \n",
       "3         0  \n",
       "4         0  \n",
       "\n",
       "[5 rows x 64 columns]"
      ]
     },
     "execution_count": 17,
     "metadata": {},
     "output_type": "execute_result"
    }
   ],
   "source": [
    "data.head()"
   ]
  },
  {
   "cell_type": "markdown",
   "metadata": {},
   "source": [
    "# 5. The Percentage of Churn in the Dataset"
   ]
  },
  {
   "cell_type": "code",
   "execution_count": 111,
   "metadata": {},
   "outputs": [],
   "source": [
    "X=data.drop(\"Churn\",axis=1)\n",
    "Y=data.Churn"
   ]
  },
  {
   "cell_type": "code",
   "execution_count": 112,
   "metadata": {},
   "outputs": [],
   "source": [
    "x_train, x_test, y_train,y_test=train_test_split(X,Y,test_size=0.25,random_state=42)"
   ]
  },
  {
   "cell_type": "code",
   "execution_count": 113,
   "metadata": {},
   "outputs": [
    {
     "data": {
      "text/plain": [
       "0    85.67427\n",
       "1    14.32573\n",
       "Name: Churn, dtype: float64"
      ]
     },
     "execution_count": 113,
     "metadata": {},
     "output_type": "execute_result"
    }
   ],
   "source": [
    "y_train.value_counts()/len(y_train)*100\n",
    "#the percentage of churn is arround 86%"
   ]
  },
  {
   "cell_type": "markdown",
   "metadata": {},
   "source": [
    "# 6. Developing the Decision Tree Model"
   ]
  },
  {
   "cell_type": "code",
   "execution_count": 114,
   "metadata": {},
   "outputs": [
    {
     "data": {
      "text/plain": [
       "DecisionTreeClassifier(class_weight=None, criterion='gini', max_depth=None,\n",
       "            max_features=None, max_leaf_nodes=None,\n",
       "            min_impurity_decrease=0.0, min_impurity_split=None,\n",
       "            min_samples_leaf=1, min_samples_split=2,\n",
       "            min_weight_fraction_leaf=0.0, presort=False, random_state=42,\n",
       "            splitter='best')"
      ]
     },
     "execution_count": 114,
     "metadata": {},
     "output_type": "execute_result"
    }
   ],
   "source": [
    "tree=DecisionTreeClassifier(random_state=42)\n",
    "tree.fit(x_train,y_train)"
   ]
  },
  {
   "cell_type": "code",
   "execution_count": 115,
   "metadata": {},
   "outputs": [
    {
     "name": "stdout",
     "output_type": "stream",
     "text": [
      "Accuracy_Train: 100.0\n",
      "Accuracy_Test: 92.20623501199042\n",
      "ROC AUC Train: 100.0\n",
      "ROC AUC Test: 85.20225669957686\n"
     ]
    }
   ],
   "source": [
    "print(\"Accuracy_Train:\",tree.score(x_train,y_train)*100)\n",
    "print(\"Accuracy_Test:\",tree.score(x_test,y_test)*100)\n",
    "print(\"ROC AUC Train:\",roc_auc_score(y_train,tree.predict(x_train))*100)\n",
    "print(\"ROC AUC Test:\",roc_auc_score(y_test,tree.predict(x_test))*100)"
   ]
  },
  {
   "cell_type": "code",
   "execution_count": 116,
   "metadata": {},
   "outputs": [],
   "source": [
    "gridsearch=GridSearchCV(DecisionTreeClassifier(random_state=42),param_grid={\n",
    "                        \"class_weight\":[None,\"balanced\"],'max_depth':(5,10),\n",
    "                        \"min_samples_leaf\":(25,150,10)\n",
    "                    },cv=5,scoring=\"roc_auc\",n_jobs=-1).fit(x_train,y_train)"
   ]
  },
  {
   "cell_type": "code",
   "execution_count": 118,
   "metadata": {},
   "outputs": [
    {
     "data": {
      "text/plain": [
       "{'class_weight': None, 'max_depth': 5, 'min_samples_leaf': 25}"
      ]
     },
     "execution_count": 118,
     "metadata": {},
     "output_type": "execute_result"
    }
   ],
   "source": [
    "gridsearch.best_params_"
   ]
  },
  {
   "cell_type": "code",
   "execution_count": 119,
   "metadata": {},
   "outputs": [
    {
     "data": {
      "text/plain": [
       "0.8882311258954295"
      ]
     },
     "execution_count": 119,
     "metadata": {},
     "output_type": "execute_result"
    }
   ],
   "source": [
    "gridsearch.best_score_"
   ]
  },
  {
   "cell_type": "markdown",
   "metadata": {},
   "source": [
    "We can oberve overfitting on this model because of the differences between train and test results."
   ]
  },
  {
   "cell_type": "code",
   "execution_count": 120,
   "metadata": {},
   "outputs": [
    {
     "data": {
      "text/plain": [
       "DecisionTreeClassifier(class_weight=None, criterion='gini', max_depth=5,\n",
       "            max_features=None, max_leaf_nodes=None,\n",
       "            min_impurity_decrease=0.0, min_impurity_split=None,\n",
       "            min_samples_leaf=25, min_samples_split=2,\n",
       "            min_weight_fraction_leaf=0.0, presort=False, random_state=42,\n",
       "            splitter='best')"
      ]
     },
     "execution_count": 120,
     "metadata": {},
     "output_type": "execute_result"
    }
   ],
   "source": [
    "tree_1=DecisionTreeClassifier(max_depth=5, \n",
    "                             min_samples_leaf=25,random_state=42)\n",
    "tree_1.fit(x_train,y_train)"
   ]
  },
  {
   "cell_type": "code",
   "execution_count": 121,
   "metadata": {},
   "outputs": [
    {
     "name": "stdout",
     "output_type": "stream",
     "text": [
      "Accuracy_Train: 94.63785514205682\n",
      "Accuracy_Test: 93.4052757793765\n",
      "ROC AUC Train: 82.79696220896099\n",
      "ROC AUC Test: 79.64739069111425\n"
     ]
    }
   ],
   "source": [
    "print(\"Accuracy_Train:\",tree_1.score(x_train,y_train)*100)\n",
    "print(\"Accuracy_Test:\",tree_1.score(x_test,y_test)*100)\n",
    "print(\"ROC AUC Train:\",roc_auc_score(y_train,tree_1.predict(x_train))*100)\n",
    "print(\"ROC AUC Test:\",roc_auc_score(y_test,tree_1.predict(x_test))*100)"
   ]
  },
  {
   "cell_type": "markdown",
   "metadata": {},
   "source": [
    "# 7. Calculating Sensitivity, Specificity, ROC AUC"
   ]
  },
  {
   "cell_type": "code",
   "execution_count": 122,
   "metadata": {},
   "outputs": [
    {
     "name": "stdout",
     "output_type": "stream",
     "text": [
      "Train:               precision    recall  f1-score   support\n",
      "\n",
      "           0       0.93      0.99      0.96       709\n",
      "           1       0.94      0.60      0.73       125\n",
      "\n",
      "   micro avg       0.93      0.93      0.93       834\n",
      "   macro avg       0.94      0.80      0.85       834\n",
      "weighted avg       0.93      0.93      0.93       834\n",
      "\n"
     ]
    }
   ],
   "source": [
    "print(\"Train:\",classification_report(y_test,tree_1.predict(x_test)))"
   ]
  },
  {
   "cell_type": "code",
   "execution_count": 123,
   "metadata": {},
   "outputs": [],
   "source": [
    "FPR,TPR,thresholds=roc_curve(y_test,tree_1.predict_proba(x_test)[:,1])\n"
   ]
  },
  {
   "cell_type": "code",
   "execution_count": 124,
   "metadata": {},
   "outputs": [
    {
     "data": {
      "image/png": "[encoded data removed]",
      "text/plain": [
       "<Figure size 432x288 with 1 Axes>"
      ]
     },
     "metadata": {
      "needs_background": "light"
     },
     "output_type": "display_data"
    }
   ],
   "source": [
    "plt.plot(FPR,TPR,label=\"ROC AUC=%f\"%roc_auc_score(y_test,tree_1.predict(x_test)))\n",
    "plt.plot([0,1],[0,1])\n",
    "plt.legend(loc=\"lower right\")\n",
    "plt.xlabel(\"FPR\")\n",
    "plt.ylabel(\"TPR\")\n",
    "plt.show()"
   ]
  },
  {
   "cell_type": "markdown",
   "metadata": {},
   "source": [
    "After experimenting wth several model version, I came down to this one, because of the accuracy and ROC AUC comparison both on the testing and training datasets difference is low, and secondly after oberving the senstivity results higher in comparison with model 1. "
   ]
  },
  {
   "cell_type": "markdown",
   "metadata": {},
   "source": [
    "# 8. Feature Importance "
   ]
  },
  {
   "cell_type": "code",
   "execution_count": 125,
   "metadata": {},
   "outputs": [
    {
     "data": {
      "text/html": [
       "<div>\n",
       "<style scoped>\n",
       "    .dataframe tbody tr th:only-of-type {\n",
       "        vertical-align: middle;\n",
       "    }\n",
       "\n",
       "    .dataframe tbody tr th {\n",
       "        vertical-align: top;\n",
       "    }\n",
       "\n",
       "    .dataframe thead th {\n",
       "        text-align: right;\n",
       "    }\n",
       "</style>\n",
       "<table border=\"1\" class=\"dataframe\">\n",
       "  <thead>\n",
       "    <tr style=\"text-align: right;\">\n",
       "      <th></th>\n",
       "      <th>Feature Importances</th>\n",
       "    </tr>\n",
       "  </thead>\n",
       "  <tbody>\n",
       "    <tr>\n",
       "      <th>Day Charge</th>\n",
       "      <td>0.318064</td>\n",
       "    </tr>\n",
       "    <tr>\n",
       "      <th>CustServ Calls</th>\n",
       "      <td>0.167586</td>\n",
       "    </tr>\n",
       "    <tr>\n",
       "      <th>Intl Charge</th>\n",
       "      <td>0.125377</td>\n",
       "    </tr>\n",
       "    <tr>\n",
       "      <th>Eve Mins</th>\n",
       "      <td>0.123282</td>\n",
       "    </tr>\n",
       "    <tr>\n",
       "      <th>Int'l Plan</th>\n",
       "      <td>0.100831</td>\n",
       "    </tr>\n",
       "    <tr>\n",
       "      <th>Intl Calls</th>\n",
       "      <td>0.088378</td>\n",
       "    </tr>\n",
       "    <tr>\n",
       "      <th>VMail Plan</th>\n",
       "      <td>0.064741</td>\n",
       "    </tr>\n",
       "    <tr>\n",
       "      <th>Night Calls</th>\n",
       "      <td>0.005626</td>\n",
       "    </tr>\n",
       "    <tr>\n",
       "      <th>Night Mins</th>\n",
       "      <td>0.005176</td>\n",
       "    </tr>\n",
       "    <tr>\n",
       "      <th>Day Calls</th>\n",
       "      <td>0.000939</td>\n",
       "    </tr>\n",
       "    <tr>\n",
       "      <th>Account Length</th>\n",
       "      <td>0.000000</td>\n",
       "    </tr>\n",
       "    <tr>\n",
       "      <th>Eve Calls</th>\n",
       "      <td>0.000000</td>\n",
       "    </tr>\n",
       "    <tr>\n",
       "      <th>Area Code</th>\n",
       "      <td>0.000000</td>\n",
       "    </tr>\n",
       "  </tbody>\n",
       "</table>\n",
       "</div>"
      ],
      "text/plain": [
       "                Feature Importances\n",
       "Day Charge                 0.318064\n",
       "CustServ Calls             0.167586\n",
       "Intl Charge                0.125377\n",
       "Eve Mins                   0.123282\n",
       "Int'l Plan                 0.100831\n",
       "Intl Calls                 0.088378\n",
       "VMail Plan                 0.064741\n",
       "Night Calls                0.005626\n",
       "Night Mins                 0.005176\n",
       "Day Calls                  0.000939\n",
       "Account Length             0.000000\n",
       "Eve Calls                  0.000000\n",
       "Area Code                  0.000000"
      ]
     },
     "execution_count": 125,
     "metadata": {},
     "output_type": "execute_result"
    }
   ],
   "source": [
    "feature_imp=pd.DataFrame(tree_1.feature_importances_,index=X.columns,columns=[\"Feature Importances\"])\n",
    "feature_imp.sort_values(by=\"Feature Importances\",ascending=False)"
   ]
  },
  {
   "cell_type": "markdown",
   "metadata": {},
   "source": [
    "Day Charge has the highest importance, i.e. 31.8% of total Gini reduction happened as a result of splits based on day charge. Considering the importance of the State result, I wll remove it.\n"
   ]
  },
  {
   "cell_type": "markdown",
   "metadata": {},
   "source": [
    "# 9. Calculating Gain and Lift for or 10 equal deciles of customers"
   ]
  },
  {
   "cell_type": "code",
   "execution_count": 126,
   "metadata": {},
   "outputs": [
    {
     "name": "stderr",
     "output_type": "stream",
     "text": [
      "C:\\Users\\Arsen\\Anaconda3\\lib\\site-packages\\matplotlib\\cbook\\__init__.py:424: MatplotlibDeprecationWarning: \n",
      "Passing one of 'on', 'true', 'off', 'false' as a boolean is deprecated; use an actual boolean (True/False) instead.\n",
      "  warn_deprecated(\"2.2\", \"Passing one of 'on', 'true', 'off', 'false' as a \"\n"
     ]
    },
    {
     "data": {
      "text/plain": [
       "<matplotlib.axes._subplots.AxesSubplot at 0x23c347eb2e8>"
      ]
     },
     "execution_count": 126,
     "metadata": {},
     "output_type": "execute_result"
    },
    {
     "data": {
      "image/png": "[encoded data removed]",
      "text/plain": [
       "<Figure size 432x288 with 1 Axes>"
      ]
     },
     "metadata": {
      "needs_background": "light"
     },
     "output_type": "display_data"
    }
   ],
   "source": [
    "skplt.metrics.plot_cumulative_gain(y_test,tree_1.predict_proba(x_test))\n",
    "#Cumulative Gains Cruve"
   ]
  },
  {
   "cell_type": "code",
   "execution_count": 78,
   "metadata": {},
   "outputs": [
    {
     "name": "stderr",
     "output_type": "stream",
     "text": [
      "C:\\Users\\Arsen\\Anaconda3\\lib\\site-packages\\matplotlib\\cbook\\__init__.py:424: MatplotlibDeprecationWarning: \n",
      "Passing one of 'on', 'true', 'off', 'false' as a boolean is deprecated; use an actual boolean (True/False) instead.\n",
      "  warn_deprecated(\"2.2\", \"Passing one of 'on', 'true', 'off', 'false' as a \"\n"
     ]
    },
    {
     "data": {
      "text/plain": [
       "<matplotlib.axes._subplots.AxesSubplot at 0x23c346a7b70>"
      ]
     },
     "execution_count": 78,
     "metadata": {},
     "output_type": "execute_result"
    },
    {
     "data": {
      "image/png": "[encoded data removed]",
      "text/plain": [
       "<Figure size 432x288 with 1 Axes>"
      ]
     },
     "metadata": {
      "needs_background": "light"
     },
     "output_type": "display_data"
    }
   ],
   "source": [
    "skplt.metrics.plot_lift_curve(y_test,tree_1.predict_proba(x_test))\n",
    "#lift Curve"
   ]
  },
  {
   "cell_type": "code",
   "execution_count": 127,
   "metadata": {},
   "outputs": [],
   "source": [
    "gn_lf=pd.DataFrame(tree_1.predict_proba(x_test)[:,1],columns=([\"Y_Pred_Prob\"]))"
   ]
  },
  {
   "cell_type": "code",
   "execution_count": 128,
   "metadata": {},
   "outputs": [
    {
     "data": {
      "text/html": [
       "<div>\n",
       "<style scoped>\n",
       "    .dataframe tbody tr th:only-of-type {\n",
       "        vertical-align: middle;\n",
       "    }\n",
       "\n",
       "    .dataframe tbody tr th {\n",
       "        vertical-align: top;\n",
       "    }\n",
       "\n",
       "    .dataframe thead th {\n",
       "        text-align: right;\n",
       "    }\n",
       "</style>\n",
       "<table border=\"1\" class=\"dataframe\">\n",
       "  <thead>\n",
       "    <tr style=\"text-align: right;\">\n",
       "      <th></th>\n",
       "      <th>Y_Pred_Prob</th>\n",
       "      <th>y_true</th>\n",
       "    </tr>\n",
       "  </thead>\n",
       "  <tbody>\n",
       "    <tr>\n",
       "      <th>0</th>\n",
       "      <td>0.02614</td>\n",
       "      <td>0</td>\n",
       "    </tr>\n",
       "    <tr>\n",
       "      <th>1</th>\n",
       "      <td>0.02614</td>\n",
       "      <td>0</td>\n",
       "    </tr>\n",
       "    <tr>\n",
       "      <th>2</th>\n",
       "      <td>1.00000</td>\n",
       "      <td>1</td>\n",
       "    </tr>\n",
       "    <tr>\n",
       "      <th>3</th>\n",
       "      <td>0.02614</td>\n",
       "      <td>0</td>\n",
       "    </tr>\n",
       "    <tr>\n",
       "      <th>4</th>\n",
       "      <td>0.02614</td>\n",
       "      <td>0</td>\n",
       "    </tr>\n",
       "  </tbody>\n",
       "</table>\n",
       "</div>"
      ],
      "text/plain": [
       "   Y_Pred_Prob  y_true\n",
       "0      0.02614       0\n",
       "1      0.02614       0\n",
       "2      1.00000       1\n",
       "3      0.02614       0\n",
       "4      0.02614       0"
      ]
     },
     "execution_count": 128,
     "metadata": {},
     "output_type": "execute_result"
    }
   ],
   "source": [
    "y_test = y_test.reset_index()\n",
    "gn_lf[\"y_true\"]=y_test.Churn\n",
    "gn_lf.head()"
   ]
  },
  {
   "cell_type": "code",
   "execution_count": 129,
   "metadata": {},
   "outputs": [
    {
     "data": {
      "text/html": [
       "<div>\n",
       "<style scoped>\n",
       "    .dataframe tbody tr th:only-of-type {\n",
       "        vertical-align: middle;\n",
       "    }\n",
       "\n",
       "    .dataframe tbody tr th {\n",
       "        vertical-align: top;\n",
       "    }\n",
       "\n",
       "    .dataframe thead th {\n",
       "        text-align: right;\n",
       "    }\n",
       "</style>\n",
       "<table border=\"1\" class=\"dataframe\">\n",
       "  <thead>\n",
       "    <tr style=\"text-align: right;\">\n",
       "      <th></th>\n",
       "      <th>Y_Pred_Prob</th>\n",
       "      <th>y_true</th>\n",
       "    </tr>\n",
       "  </thead>\n",
       "  <tbody>\n",
       "    <tr>\n",
       "      <th>187</th>\n",
       "      <td>1.0</td>\n",
       "      <td>1</td>\n",
       "    </tr>\n",
       "    <tr>\n",
       "      <th>229</th>\n",
       "      <td>1.0</td>\n",
       "      <td>1</td>\n",
       "    </tr>\n",
       "    <tr>\n",
       "      <th>350</th>\n",
       "      <td>1.0</td>\n",
       "      <td>1</td>\n",
       "    </tr>\n",
       "    <tr>\n",
       "      <th>78</th>\n",
       "      <td>1.0</td>\n",
       "      <td>1</td>\n",
       "    </tr>\n",
       "    <tr>\n",
       "      <th>73</th>\n",
       "      <td>1.0</td>\n",
       "      <td>1</td>\n",
       "    </tr>\n",
       "    <tr>\n",
       "      <th>148</th>\n",
       "      <td>1.0</td>\n",
       "      <td>1</td>\n",
       "    </tr>\n",
       "    <tr>\n",
       "      <th>68</th>\n",
       "      <td>1.0</td>\n",
       "      <td>1</td>\n",
       "    </tr>\n",
       "    <tr>\n",
       "      <th>791</th>\n",
       "      <td>1.0</td>\n",
       "      <td>1</td>\n",
       "    </tr>\n",
       "    <tr>\n",
       "      <th>647</th>\n",
       "      <td>1.0</td>\n",
       "      <td>1</td>\n",
       "    </tr>\n",
       "    <tr>\n",
       "      <th>154</th>\n",
       "      <td>1.0</td>\n",
       "      <td>1</td>\n",
       "    </tr>\n",
       "    <tr>\n",
       "      <th>89</th>\n",
       "      <td>1.0</td>\n",
       "      <td>1</td>\n",
       "    </tr>\n",
       "    <tr>\n",
       "      <th>797</th>\n",
       "      <td>1.0</td>\n",
       "      <td>1</td>\n",
       "    </tr>\n",
       "    <tr>\n",
       "      <th>798</th>\n",
       "      <td>1.0</td>\n",
       "      <td>1</td>\n",
       "    </tr>\n",
       "    <tr>\n",
       "      <th>51</th>\n",
       "      <td>1.0</td>\n",
       "      <td>1</td>\n",
       "    </tr>\n",
       "    <tr>\n",
       "      <th>414</th>\n",
       "      <td>1.0</td>\n",
       "      <td>1</td>\n",
       "    </tr>\n",
       "    <tr>\n",
       "      <th>415</th>\n",
       "      <td>1.0</td>\n",
       "      <td>1</td>\n",
       "    </tr>\n",
       "    <tr>\n",
       "      <th>418</th>\n",
       "      <td>1.0</td>\n",
       "      <td>1</td>\n",
       "    </tr>\n",
       "    <tr>\n",
       "      <th>420</th>\n",
       "      <td>1.0</td>\n",
       "      <td>1</td>\n",
       "    </tr>\n",
       "    <tr>\n",
       "      <th>346</th>\n",
       "      <td>1.0</td>\n",
       "      <td>1</td>\n",
       "    </tr>\n",
       "    <tr>\n",
       "      <th>92</th>\n",
       "      <td>1.0</td>\n",
       "      <td>1</td>\n",
       "    </tr>\n",
       "  </tbody>\n",
       "</table>\n",
       "</div>"
      ],
      "text/plain": [
       "     Y_Pred_Prob  y_true\n",
       "187          1.0       1\n",
       "229          1.0       1\n",
       "350          1.0       1\n",
       "78           1.0       1\n",
       "73           1.0       1\n",
       "148          1.0       1\n",
       "68           1.0       1\n",
       "791          1.0       1\n",
       "647          1.0       1\n",
       "154          1.0       1\n",
       "89           1.0       1\n",
       "797          1.0       1\n",
       "798          1.0       1\n",
       "51           1.0       1\n",
       "414          1.0       1\n",
       "415          1.0       1\n",
       "418          1.0       1\n",
       "420          1.0       1\n",
       "346          1.0       1\n",
       "92           1.0       1"
      ]
     },
     "execution_count": 129,
     "metadata": {},
     "output_type": "execute_result"
    }
   ],
   "source": [
    "gn_lf=gn_lf.sort_values(by=['Y_Pred_Prob'],ascending=False)\n",
    "gn_lf.head(20)"
   ]
  },
  {
   "cell_type": "code",
   "execution_count": 130,
   "metadata": {},
   "outputs": [
    {
     "data": {
      "text/html": [
       "<div>\n",
       "<style scoped>\n",
       "    .dataframe tbody tr th:only-of-type {\n",
       "        vertical-align: middle;\n",
       "    }\n",
       "\n",
       "    .dataframe tbody tr th {\n",
       "        vertical-align: top;\n",
       "    }\n",
       "\n",
       "    .dataframe thead th {\n",
       "        text-align: right;\n",
       "    }\n",
       "</style>\n",
       "<table border=\"1\" class=\"dataframe\">\n",
       "  <thead>\n",
       "    <tr style=\"text-align: right;\">\n",
       "      <th></th>\n",
       "      <th>Y_Pred_Prob</th>\n",
       "      <th>y_true</th>\n",
       "    </tr>\n",
       "  </thead>\n",
       "  <tbody>\n",
       "    <tr>\n",
       "      <th>0</th>\n",
       "      <td>(0.96, 1.0]</td>\n",
       "      <td>53</td>\n",
       "    </tr>\n",
       "    <tr>\n",
       "      <th>1</th>\n",
       "      <td>(0.777, 0.96]</td>\n",
       "      <td>17</td>\n",
       "    </tr>\n",
       "    <tr>\n",
       "      <th>2</th>\n",
       "      <td>(0.3704, 0.777]</td>\n",
       "      <td>5</td>\n",
       "    </tr>\n",
       "    <tr>\n",
       "      <th>3</th>\n",
       "      <td>(0.3214, 0.3704]</td>\n",
       "      <td>15</td>\n",
       "    </tr>\n",
       "    <tr>\n",
       "      <th>4</th>\n",
       "      <td>(0.16, 0.3214]</td>\n",
       "      <td>2</td>\n",
       "    </tr>\n",
       "    <tr>\n",
       "      <th>5</th>\n",
       "      <td>(0.112, 0.16]</td>\n",
       "      <td>5</td>\n",
       "    </tr>\n",
       "    <tr>\n",
       "      <th>6</th>\n",
       "      <td>(0.1119, 0.112]</td>\n",
       "      <td>10</td>\n",
       "    </tr>\n",
       "    <tr>\n",
       "      <th>7</th>\n",
       "      <td>(0.1071, 0.1119]</td>\n",
       "      <td>1</td>\n",
       "    </tr>\n",
       "    <tr>\n",
       "      <th>8</th>\n",
       "      <td>(0.03968, 0.1071]</td>\n",
       "      <td>0</td>\n",
       "    </tr>\n",
       "    <tr>\n",
       "      <th>9</th>\n",
       "      <td>(0.02814, 0.03968]</td>\n",
       "      <td>3</td>\n",
       "    </tr>\n",
       "    <tr>\n",
       "      <th>10</th>\n",
       "      <td>(0.02604, 0.02814]</td>\n",
       "      <td>14</td>\n",
       "    </tr>\n",
       "  </tbody>\n",
       "</table>\n",
       "</div>"
      ],
      "text/plain": [
       "           Y_Pred_Prob  y_true\n",
       "0          (0.96, 1.0]      53\n",
       "1        (0.777, 0.96]      17\n",
       "2      (0.3704, 0.777]       5\n",
       "3     (0.3214, 0.3704]      15\n",
       "4       (0.16, 0.3214]       2\n",
       "5        (0.112, 0.16]       5\n",
       "6      (0.1119, 0.112]      10\n",
       "7     (0.1071, 0.1119]       1\n",
       "8    (0.03968, 0.1071]       0\n",
       "9   (0.02814, 0.03968]       3\n",
       "10  (0.02604, 0.02814]      14"
      ]
     },
     "execution_count": 130,
     "metadata": {},
     "output_type": "execute_result"
    }
   ],
   "source": [
    "calc=pd.DataFrame(gn_lf.groupby(pd.qcut(gn_lf.Y_Pred_Prob,45, duplicates='drop'))['y_true'].sum()).sort_values(\n",
    "    by=['Y_Pred_Prob'],ascending=False).reset_index()\n",
    "calc"
   ]
  },
  {
   "cell_type": "code",
   "execution_count": 131,
   "metadata": {},
   "outputs": [
    {
     "data": {
      "text/html": [
       "<div>\n",
       "<style scoped>\n",
       "    .dataframe tbody tr th:only-of-type {\n",
       "        vertical-align: middle;\n",
       "    }\n",
       "\n",
       "    .dataframe tbody tr th {\n",
       "        vertical-align: top;\n",
       "    }\n",
       "\n",
       "    .dataframe thead th {\n",
       "        text-align: right;\n",
       "    }\n",
       "</style>\n",
       "<table border=\"1\" class=\"dataframe\">\n",
       "  <thead>\n",
       "    <tr style=\"text-align: right;\">\n",
       "      <th></th>\n",
       "      <th>Y_Pred_Prob</th>\n",
       "      <th>y_true</th>\n",
       "    </tr>\n",
       "  </thead>\n",
       "  <tbody>\n",
       "    <tr>\n",
       "      <th>0</th>\n",
       "      <td>(0.96, 1.0]</td>\n",
       "      <td>53</td>\n",
       "    </tr>\n",
       "    <tr>\n",
       "      <th>1</th>\n",
       "      <td>(0.777, 0.96]</td>\n",
       "      <td>22</td>\n",
       "    </tr>\n",
       "    <tr>\n",
       "      <th>2</th>\n",
       "      <td>(0.3704, 0.777]</td>\n",
       "      <td>5</td>\n",
       "    </tr>\n",
       "    <tr>\n",
       "      <th>3</th>\n",
       "      <td>(0.3214, 0.3704]</td>\n",
       "      <td>30</td>\n",
       "    </tr>\n",
       "    <tr>\n",
       "      <th>4</th>\n",
       "      <td>(0.16, 0.3214]</td>\n",
       "      <td>11</td>\n",
       "    </tr>\n",
       "    <tr>\n",
       "      <th>5</th>\n",
       "      <td>(0.112, 0.16]</td>\n",
       "      <td>12</td>\n",
       "    </tr>\n",
       "    <tr>\n",
       "      <th>6</th>\n",
       "      <td>(0.1119, 0.112]</td>\n",
       "      <td>90</td>\n",
       "    </tr>\n",
       "    <tr>\n",
       "      <th>7</th>\n",
       "      <td>(0.1071, 0.1119]</td>\n",
       "      <td>11</td>\n",
       "    </tr>\n",
       "    <tr>\n",
       "      <th>8</th>\n",
       "      <td>(0.03968, 0.1071]</td>\n",
       "      <td>11</td>\n",
       "    </tr>\n",
       "    <tr>\n",
       "      <th>9</th>\n",
       "      <td>(0.02814, 0.03968]</td>\n",
       "      <td>52</td>\n",
       "    </tr>\n",
       "    <tr>\n",
       "      <th>10</th>\n",
       "      <td>(0.02604, 0.02814]</td>\n",
       "      <td>537</td>\n",
       "    </tr>\n",
       "  </tbody>\n",
       "</table>\n",
       "</div>"
      ],
      "text/plain": [
       "           Y_Pred_Prob  y_true\n",
       "0          (0.96, 1.0]      53\n",
       "1        (0.777, 0.96]      22\n",
       "2      (0.3704, 0.777]       5\n",
       "3     (0.3214, 0.3704]      30\n",
       "4       (0.16, 0.3214]      11\n",
       "5        (0.112, 0.16]      12\n",
       "6      (0.1119, 0.112]      90\n",
       "7     (0.1071, 0.1119]      11\n",
       "8    (0.03968, 0.1071]      11\n",
       "9   (0.02814, 0.03968]      52\n",
       "10  (0.02604, 0.02814]     537"
      ]
     },
     "execution_count": 131,
     "metadata": {},
     "output_type": "execute_result"
    }
   ],
   "source": [
    "obs=pd.DataFrame(gn_lf.groupby(pd.qcut(gn_lf.Y_Pred_Prob,45, duplicates='drop'))['y_true'].count()).sort_values(\n",
    "    by=['Y_Pred_Prob'],ascending=False).reset_index()\n",
    "obs"
   ]
  },
  {
   "cell_type": "code",
   "execution_count": 132,
   "metadata": {},
   "outputs": [
    {
     "data": {
      "text/html": [
       "<div>\n",
       "<style scoped>\n",
       "    .dataframe tbody tr th:only-of-type {\n",
       "        vertical-align: middle;\n",
       "    }\n",
       "\n",
       "    .dataframe tbody tr th {\n",
       "        vertical-align: top;\n",
       "    }\n",
       "\n",
       "    .dataframe thead th {\n",
       "        text-align: right;\n",
       "    }\n",
       "</style>\n",
       "<table border=\"1\" class=\"dataframe\">\n",
       "  <thead>\n",
       "    <tr style=\"text-align: right;\">\n",
       "      <th></th>\n",
       "      <th>Y_Pred_Prob</th>\n",
       "      <th>y_true</th>\n",
       "      <th>Total</th>\n",
       "    </tr>\n",
       "  </thead>\n",
       "  <tbody>\n",
       "    <tr>\n",
       "      <th>0</th>\n",
       "      <td>(0.96, 1.0]</td>\n",
       "      <td>53</td>\n",
       "      <td>53</td>\n",
       "    </tr>\n",
       "    <tr>\n",
       "      <th>1</th>\n",
       "      <td>(0.777, 0.96]</td>\n",
       "      <td>17</td>\n",
       "      <td>22</td>\n",
       "    </tr>\n",
       "    <tr>\n",
       "      <th>2</th>\n",
       "      <td>(0.3704, 0.777]</td>\n",
       "      <td>5</td>\n",
       "      <td>5</td>\n",
       "    </tr>\n",
       "    <tr>\n",
       "      <th>3</th>\n",
       "      <td>(0.3214, 0.3704]</td>\n",
       "      <td>15</td>\n",
       "      <td>30</td>\n",
       "    </tr>\n",
       "    <tr>\n",
       "      <th>4</th>\n",
       "      <td>(0.16, 0.3214]</td>\n",
       "      <td>2</td>\n",
       "      <td>11</td>\n",
       "    </tr>\n",
       "    <tr>\n",
       "      <th>5</th>\n",
       "      <td>(0.112, 0.16]</td>\n",
       "      <td>5</td>\n",
       "      <td>12</td>\n",
       "    </tr>\n",
       "    <tr>\n",
       "      <th>6</th>\n",
       "      <td>(0.1119, 0.112]</td>\n",
       "      <td>10</td>\n",
       "      <td>90</td>\n",
       "    </tr>\n",
       "    <tr>\n",
       "      <th>7</th>\n",
       "      <td>(0.1071, 0.1119]</td>\n",
       "      <td>1</td>\n",
       "      <td>11</td>\n",
       "    </tr>\n",
       "    <tr>\n",
       "      <th>8</th>\n",
       "      <td>(0.03968, 0.1071]</td>\n",
       "      <td>0</td>\n",
       "      <td>11</td>\n",
       "    </tr>\n",
       "    <tr>\n",
       "      <th>9</th>\n",
       "      <td>(0.02814, 0.03968]</td>\n",
       "      <td>3</td>\n",
       "      <td>52</td>\n",
       "    </tr>\n",
       "    <tr>\n",
       "      <th>10</th>\n",
       "      <td>(0.02604, 0.02814]</td>\n",
       "      <td>14</td>\n",
       "      <td>537</td>\n",
       "    </tr>\n",
       "  </tbody>\n",
       "</table>\n",
       "</div>"
      ],
      "text/plain": [
       "           Y_Pred_Prob  y_true  Total\n",
       "0          (0.96, 1.0]      53     53\n",
       "1        (0.777, 0.96]      17     22\n",
       "2      (0.3704, 0.777]       5      5\n",
       "3     (0.3214, 0.3704]      15     30\n",
       "4       (0.16, 0.3214]       2     11\n",
       "5        (0.112, 0.16]       5     12\n",
       "6      (0.1119, 0.112]      10     90\n",
       "7     (0.1071, 0.1119]       1     11\n",
       "8    (0.03968, 0.1071]       0     11\n",
       "9   (0.02814, 0.03968]       3     52\n",
       "10  (0.02604, 0.02814]      14    537"
      ]
     },
     "execution_count": 132,
     "metadata": {},
     "output_type": "execute_result"
    }
   ],
   "source": [
    "calc[\"Total\"]=obs.y_true\n",
    "calc"
   ]
  },
  {
   "cell_type": "code",
   "execution_count": 133,
   "metadata": {},
   "outputs": [],
   "source": [
    "calc[\"Percent\"]=(calc.Total/len(y_test))*100\n"
   ]
  },
  {
   "cell_type": "code",
   "execution_count": 134,
   "metadata": {},
   "outputs": [
    {
     "data": {
      "text/html": [
       "<div>\n",
       "<style scoped>\n",
       "    .dataframe tbody tr th:only-of-type {\n",
       "        vertical-align: middle;\n",
       "    }\n",
       "\n",
       "    .dataframe tbody tr th {\n",
       "        vertical-align: top;\n",
       "    }\n",
       "\n",
       "    .dataframe thead th {\n",
       "        text-align: right;\n",
       "    }\n",
       "</style>\n",
       "<table border=\"1\" class=\"dataframe\">\n",
       "  <thead>\n",
       "    <tr style=\"text-align: right;\">\n",
       "      <th></th>\n",
       "      <th>Y_Pred_Prob</th>\n",
       "      <th>y_true</th>\n",
       "      <th>Total</th>\n",
       "      <th>Percent</th>\n",
       "      <th>Cum_Total</th>\n",
       "    </tr>\n",
       "  </thead>\n",
       "  <tbody>\n",
       "    <tr>\n",
       "      <th>0</th>\n",
       "      <td>(0.96, 1.0]</td>\n",
       "      <td>53</td>\n",
       "      <td>53</td>\n",
       "      <td>6.354916</td>\n",
       "      <td>53</td>\n",
       "    </tr>\n",
       "    <tr>\n",
       "      <th>1</th>\n",
       "      <td>(0.777, 0.96]</td>\n",
       "      <td>17</td>\n",
       "      <td>22</td>\n",
       "      <td>2.637890</td>\n",
       "      <td>75</td>\n",
       "    </tr>\n",
       "    <tr>\n",
       "      <th>2</th>\n",
       "      <td>(0.3704, 0.777]</td>\n",
       "      <td>5</td>\n",
       "      <td>5</td>\n",
       "      <td>0.599520</td>\n",
       "      <td>80</td>\n",
       "    </tr>\n",
       "    <tr>\n",
       "      <th>3</th>\n",
       "      <td>(0.3214, 0.3704]</td>\n",
       "      <td>15</td>\n",
       "      <td>30</td>\n",
       "      <td>3.597122</td>\n",
       "      <td>110</td>\n",
       "    </tr>\n",
       "    <tr>\n",
       "      <th>4</th>\n",
       "      <td>(0.16, 0.3214]</td>\n",
       "      <td>2</td>\n",
       "      <td>11</td>\n",
       "      <td>1.318945</td>\n",
       "      <td>121</td>\n",
       "    </tr>\n",
       "    <tr>\n",
       "      <th>5</th>\n",
       "      <td>(0.112, 0.16]</td>\n",
       "      <td>5</td>\n",
       "      <td>12</td>\n",
       "      <td>1.438849</td>\n",
       "      <td>133</td>\n",
       "    </tr>\n",
       "    <tr>\n",
       "      <th>6</th>\n",
       "      <td>(0.1119, 0.112]</td>\n",
       "      <td>10</td>\n",
       "      <td>90</td>\n",
       "      <td>10.791367</td>\n",
       "      <td>223</td>\n",
       "    </tr>\n",
       "    <tr>\n",
       "      <th>7</th>\n",
       "      <td>(0.1071, 0.1119]</td>\n",
       "      <td>1</td>\n",
       "      <td>11</td>\n",
       "      <td>1.318945</td>\n",
       "      <td>234</td>\n",
       "    </tr>\n",
       "    <tr>\n",
       "      <th>8</th>\n",
       "      <td>(0.03968, 0.1071]</td>\n",
       "      <td>0</td>\n",
       "      <td>11</td>\n",
       "      <td>1.318945</td>\n",
       "      <td>245</td>\n",
       "    </tr>\n",
       "    <tr>\n",
       "      <th>9</th>\n",
       "      <td>(0.02814, 0.03968]</td>\n",
       "      <td>3</td>\n",
       "      <td>52</td>\n",
       "      <td>6.235012</td>\n",
       "      <td>297</td>\n",
       "    </tr>\n",
       "    <tr>\n",
       "      <th>10</th>\n",
       "      <td>(0.02604, 0.02814]</td>\n",
       "      <td>14</td>\n",
       "      <td>537</td>\n",
       "      <td>64.388489</td>\n",
       "      <td>834</td>\n",
       "    </tr>\n",
       "  </tbody>\n",
       "</table>\n",
       "</div>"
      ],
      "text/plain": [
       "           Y_Pred_Prob  y_true  Total    Percent  Cum_Total\n",
       "0          (0.96, 1.0]      53     53   6.354916         53\n",
       "1        (0.777, 0.96]      17     22   2.637890         75\n",
       "2      (0.3704, 0.777]       5      5   0.599520         80\n",
       "3     (0.3214, 0.3704]      15     30   3.597122        110\n",
       "4       (0.16, 0.3214]       2     11   1.318945        121\n",
       "5        (0.112, 0.16]       5     12   1.438849        133\n",
       "6      (0.1119, 0.112]      10     90  10.791367        223\n",
       "7     (0.1071, 0.1119]       1     11   1.318945        234\n",
       "8    (0.03968, 0.1071]       0     11   1.318945        245\n",
       "9   (0.02814, 0.03968]       3     52   6.235012        297\n",
       "10  (0.02604, 0.02814]      14    537  64.388489        834"
      ]
     },
     "execution_count": 134,
     "metadata": {},
     "output_type": "execute_result"
    }
   ],
   "source": [
    "calc[\"Cum_Total\"]=calc.Total.cumsum()\n",
    "calc"
   ]
  },
  {
   "cell_type": "code",
   "execution_count": 135,
   "metadata": {},
   "outputs": [
    {
     "data": {
      "text/html": [
       "<div>\n",
       "<style scoped>\n",
       "    .dataframe tbody tr th:only-of-type {\n",
       "        vertical-align: middle;\n",
       "    }\n",
       "\n",
       "    .dataframe tbody tr th {\n",
       "        vertical-align: top;\n",
       "    }\n",
       "\n",
       "    .dataframe thead th {\n",
       "        text-align: right;\n",
       "    }\n",
       "</style>\n",
       "<table border=\"1\" class=\"dataframe\">\n",
       "  <thead>\n",
       "    <tr style=\"text-align: right;\">\n",
       "      <th></th>\n",
       "      <th>Y_Pred_Prob</th>\n",
       "      <th>y_true</th>\n",
       "      <th>Total</th>\n",
       "      <th>Percent</th>\n",
       "      <th>Cum_Total</th>\n",
       "      <th>Cum_Percent</th>\n",
       "    </tr>\n",
       "  </thead>\n",
       "  <tbody>\n",
       "    <tr>\n",
       "      <th>0</th>\n",
       "      <td>(0.96, 1.0]</td>\n",
       "      <td>53</td>\n",
       "      <td>53</td>\n",
       "      <td>6.354916</td>\n",
       "      <td>53</td>\n",
       "      <td>6.354916</td>\n",
       "    </tr>\n",
       "    <tr>\n",
       "      <th>1</th>\n",
       "      <td>(0.777, 0.96]</td>\n",
       "      <td>17</td>\n",
       "      <td>22</td>\n",
       "      <td>2.637890</td>\n",
       "      <td>75</td>\n",
       "      <td>8.992806</td>\n",
       "    </tr>\n",
       "    <tr>\n",
       "      <th>2</th>\n",
       "      <td>(0.3704, 0.777]</td>\n",
       "      <td>5</td>\n",
       "      <td>5</td>\n",
       "      <td>0.599520</td>\n",
       "      <td>80</td>\n",
       "      <td>9.592326</td>\n",
       "    </tr>\n",
       "    <tr>\n",
       "      <th>3</th>\n",
       "      <td>(0.3214, 0.3704]</td>\n",
       "      <td>15</td>\n",
       "      <td>30</td>\n",
       "      <td>3.597122</td>\n",
       "      <td>110</td>\n",
       "      <td>13.189448</td>\n",
       "    </tr>\n",
       "    <tr>\n",
       "      <th>4</th>\n",
       "      <td>(0.16, 0.3214]</td>\n",
       "      <td>2</td>\n",
       "      <td>11</td>\n",
       "      <td>1.318945</td>\n",
       "      <td>121</td>\n",
       "      <td>14.508393</td>\n",
       "    </tr>\n",
       "    <tr>\n",
       "      <th>5</th>\n",
       "      <td>(0.112, 0.16]</td>\n",
       "      <td>5</td>\n",
       "      <td>12</td>\n",
       "      <td>1.438849</td>\n",
       "      <td>133</td>\n",
       "      <td>15.947242</td>\n",
       "    </tr>\n",
       "    <tr>\n",
       "      <th>6</th>\n",
       "      <td>(0.1119, 0.112]</td>\n",
       "      <td>10</td>\n",
       "      <td>90</td>\n",
       "      <td>10.791367</td>\n",
       "      <td>223</td>\n",
       "      <td>26.738609</td>\n",
       "    </tr>\n",
       "    <tr>\n",
       "      <th>7</th>\n",
       "      <td>(0.1071, 0.1119]</td>\n",
       "      <td>1</td>\n",
       "      <td>11</td>\n",
       "      <td>1.318945</td>\n",
       "      <td>234</td>\n",
       "      <td>28.057554</td>\n",
       "    </tr>\n",
       "    <tr>\n",
       "      <th>8</th>\n",
       "      <td>(0.03968, 0.1071]</td>\n",
       "      <td>0</td>\n",
       "      <td>11</td>\n",
       "      <td>1.318945</td>\n",
       "      <td>245</td>\n",
       "      <td>29.376499</td>\n",
       "    </tr>\n",
       "    <tr>\n",
       "      <th>9</th>\n",
       "      <td>(0.02814, 0.03968]</td>\n",
       "      <td>3</td>\n",
       "      <td>52</td>\n",
       "      <td>6.235012</td>\n",
       "      <td>297</td>\n",
       "      <td>35.611511</td>\n",
       "    </tr>\n",
       "    <tr>\n",
       "      <th>10</th>\n",
       "      <td>(0.02604, 0.02814]</td>\n",
       "      <td>14</td>\n",
       "      <td>537</td>\n",
       "      <td>64.388489</td>\n",
       "      <td>834</td>\n",
       "      <td>100.000000</td>\n",
       "    </tr>\n",
       "  </tbody>\n",
       "</table>\n",
       "</div>"
      ],
      "text/plain": [
       "           Y_Pred_Prob  y_true  Total    Percent  Cum_Total  Cum_Percent\n",
       "0          (0.96, 1.0]      53     53   6.354916         53     6.354916\n",
       "1        (0.777, 0.96]      17     22   2.637890         75     8.992806\n",
       "2      (0.3704, 0.777]       5      5   0.599520         80     9.592326\n",
       "3     (0.3214, 0.3704]      15     30   3.597122        110    13.189448\n",
       "4       (0.16, 0.3214]       2     11   1.318945        121    14.508393\n",
       "5        (0.112, 0.16]       5     12   1.438849        133    15.947242\n",
       "6      (0.1119, 0.112]      10     90  10.791367        223    26.738609\n",
       "7     (0.1071, 0.1119]       1     11   1.318945        234    28.057554\n",
       "8    (0.03968, 0.1071]       0     11   1.318945        245    29.376499\n",
       "9   (0.02814, 0.03968]       3     52   6.235012        297    35.611511\n",
       "10  (0.02604, 0.02814]      14    537  64.388489        834   100.000000"
      ]
     },
     "execution_count": 135,
     "metadata": {},
     "output_type": "execute_result"
    }
   ],
   "source": [
    "calc[\"Cum_Percent\"]=calc.Percent.cumsum()\n",
    "calc"
   ]
  },
  {
   "cell_type": "code",
   "execution_count": 136,
   "metadata": {},
   "outputs": [
    {
     "data": {
      "text/html": [
       "<div>\n",
       "<style scoped>\n",
       "    .dataframe tbody tr th:only-of-type {\n",
       "        vertical-align: middle;\n",
       "    }\n",
       "\n",
       "    .dataframe tbody tr th {\n",
       "        vertical-align: top;\n",
       "    }\n",
       "\n",
       "    .dataframe thead th {\n",
       "        text-align: right;\n",
       "    }\n",
       "</style>\n",
       "<table border=\"1\" class=\"dataframe\">\n",
       "  <thead>\n",
       "    <tr style=\"text-align: right;\">\n",
       "      <th></th>\n",
       "      <th>Y_Pred_Prob</th>\n",
       "      <th>y_true</th>\n",
       "      <th>Total</th>\n",
       "      <th>Percent</th>\n",
       "      <th>Cum_Total</th>\n",
       "      <th>Cum_Percent</th>\n",
       "      <th>Cum_y_true</th>\n",
       "    </tr>\n",
       "  </thead>\n",
       "  <tbody>\n",
       "    <tr>\n",
       "      <th>0</th>\n",
       "      <td>(0.96, 1.0]</td>\n",
       "      <td>53</td>\n",
       "      <td>53</td>\n",
       "      <td>6.354916</td>\n",
       "      <td>53</td>\n",
       "      <td>6.354916</td>\n",
       "      <td>53</td>\n",
       "    </tr>\n",
       "    <tr>\n",
       "      <th>1</th>\n",
       "      <td>(0.777, 0.96]</td>\n",
       "      <td>17</td>\n",
       "      <td>22</td>\n",
       "      <td>2.637890</td>\n",
       "      <td>75</td>\n",
       "      <td>8.992806</td>\n",
       "      <td>70</td>\n",
       "    </tr>\n",
       "    <tr>\n",
       "      <th>2</th>\n",
       "      <td>(0.3704, 0.777]</td>\n",
       "      <td>5</td>\n",
       "      <td>5</td>\n",
       "      <td>0.599520</td>\n",
       "      <td>80</td>\n",
       "      <td>9.592326</td>\n",
       "      <td>75</td>\n",
       "    </tr>\n",
       "    <tr>\n",
       "      <th>3</th>\n",
       "      <td>(0.3214, 0.3704]</td>\n",
       "      <td>15</td>\n",
       "      <td>30</td>\n",
       "      <td>3.597122</td>\n",
       "      <td>110</td>\n",
       "      <td>13.189448</td>\n",
       "      <td>90</td>\n",
       "    </tr>\n",
       "    <tr>\n",
       "      <th>4</th>\n",
       "      <td>(0.16, 0.3214]</td>\n",
       "      <td>2</td>\n",
       "      <td>11</td>\n",
       "      <td>1.318945</td>\n",
       "      <td>121</td>\n",
       "      <td>14.508393</td>\n",
       "      <td>92</td>\n",
       "    </tr>\n",
       "    <tr>\n",
       "      <th>5</th>\n",
       "      <td>(0.112, 0.16]</td>\n",
       "      <td>5</td>\n",
       "      <td>12</td>\n",
       "      <td>1.438849</td>\n",
       "      <td>133</td>\n",
       "      <td>15.947242</td>\n",
       "      <td>97</td>\n",
       "    </tr>\n",
       "    <tr>\n",
       "      <th>6</th>\n",
       "      <td>(0.1119, 0.112]</td>\n",
       "      <td>10</td>\n",
       "      <td>90</td>\n",
       "      <td>10.791367</td>\n",
       "      <td>223</td>\n",
       "      <td>26.738609</td>\n",
       "      <td>107</td>\n",
       "    </tr>\n",
       "    <tr>\n",
       "      <th>7</th>\n",
       "      <td>(0.1071, 0.1119]</td>\n",
       "      <td>1</td>\n",
       "      <td>11</td>\n",
       "      <td>1.318945</td>\n",
       "      <td>234</td>\n",
       "      <td>28.057554</td>\n",
       "      <td>108</td>\n",
       "    </tr>\n",
       "    <tr>\n",
       "      <th>8</th>\n",
       "      <td>(0.03968, 0.1071]</td>\n",
       "      <td>0</td>\n",
       "      <td>11</td>\n",
       "      <td>1.318945</td>\n",
       "      <td>245</td>\n",
       "      <td>29.376499</td>\n",
       "      <td>108</td>\n",
       "    </tr>\n",
       "    <tr>\n",
       "      <th>9</th>\n",
       "      <td>(0.02814, 0.03968]</td>\n",
       "      <td>3</td>\n",
       "      <td>52</td>\n",
       "      <td>6.235012</td>\n",
       "      <td>297</td>\n",
       "      <td>35.611511</td>\n",
       "      <td>111</td>\n",
       "    </tr>\n",
       "    <tr>\n",
       "      <th>10</th>\n",
       "      <td>(0.02604, 0.02814]</td>\n",
       "      <td>14</td>\n",
       "      <td>537</td>\n",
       "      <td>64.388489</td>\n",
       "      <td>834</td>\n",
       "      <td>100.000000</td>\n",
       "      <td>125</td>\n",
       "    </tr>\n",
       "  </tbody>\n",
       "</table>\n",
       "</div>"
      ],
      "text/plain": [
       "           Y_Pred_Prob  y_true  Total    Percent  Cum_Total  Cum_Percent  \\\n",
       "0          (0.96, 1.0]      53     53   6.354916         53     6.354916   \n",
       "1        (0.777, 0.96]      17     22   2.637890         75     8.992806   \n",
       "2      (0.3704, 0.777]       5      5   0.599520         80     9.592326   \n",
       "3     (0.3214, 0.3704]      15     30   3.597122        110    13.189448   \n",
       "4       (0.16, 0.3214]       2     11   1.318945        121    14.508393   \n",
       "5        (0.112, 0.16]       5     12   1.438849        133    15.947242   \n",
       "6      (0.1119, 0.112]      10     90  10.791367        223    26.738609   \n",
       "7     (0.1071, 0.1119]       1     11   1.318945        234    28.057554   \n",
       "8    (0.03968, 0.1071]       0     11   1.318945        245    29.376499   \n",
       "9   (0.02814, 0.03968]       3     52   6.235012        297    35.611511   \n",
       "10  (0.02604, 0.02814]      14    537  64.388489        834   100.000000   \n",
       "\n",
       "    Cum_y_true  \n",
       "0           53  \n",
       "1           70  \n",
       "2           75  \n",
       "3           90  \n",
       "4           92  \n",
       "5           97  \n",
       "6          107  \n",
       "7          108  \n",
       "8          108  \n",
       "9          111  \n",
       "10         125  "
      ]
     },
     "execution_count": 136,
     "metadata": {},
     "output_type": "execute_result"
    }
   ],
   "source": [
    "calc[\"Cum_y_true\"]=calc.y_true.cumsum()\n",
    "calc"
   ]
  },
  {
   "cell_type": "code",
   "execution_count": 137,
   "metadata": {},
   "outputs": [
    {
     "data": {
      "text/html": [
       "<div>\n",
       "<style scoped>\n",
       "    .dataframe tbody tr th:only-of-type {\n",
       "        vertical-align: middle;\n",
       "    }\n",
       "\n",
       "    .dataframe tbody tr th {\n",
       "        vertical-align: top;\n",
       "    }\n",
       "\n",
       "    .dataframe thead th {\n",
       "        text-align: right;\n",
       "    }\n",
       "</style>\n",
       "<table border=\"1\" class=\"dataframe\">\n",
       "  <thead>\n",
       "    <tr style=\"text-align: right;\">\n",
       "      <th></th>\n",
       "      <th>Y_Pred_Prob</th>\n",
       "      <th>y_true</th>\n",
       "      <th>Total</th>\n",
       "      <th>Percent</th>\n",
       "      <th>Cum_Total</th>\n",
       "      <th>Cum_Percent</th>\n",
       "      <th>Cum_y_true</th>\n",
       "      <th>Gain_Score</th>\n",
       "    </tr>\n",
       "  </thead>\n",
       "  <tbody>\n",
       "    <tr>\n",
       "      <th>0</th>\n",
       "      <td>(0.96, 1.0]</td>\n",
       "      <td>53</td>\n",
       "      <td>53</td>\n",
       "      <td>6.354916</td>\n",
       "      <td>53</td>\n",
       "      <td>6.354916</td>\n",
       "      <td>53</td>\n",
       "      <td>42.4</td>\n",
       "    </tr>\n",
       "    <tr>\n",
       "      <th>1</th>\n",
       "      <td>(0.777, 0.96]</td>\n",
       "      <td>17</td>\n",
       "      <td>22</td>\n",
       "      <td>2.637890</td>\n",
       "      <td>75</td>\n",
       "      <td>8.992806</td>\n",
       "      <td>70</td>\n",
       "      <td>56.0</td>\n",
       "    </tr>\n",
       "    <tr>\n",
       "      <th>2</th>\n",
       "      <td>(0.3704, 0.777]</td>\n",
       "      <td>5</td>\n",
       "      <td>5</td>\n",
       "      <td>0.599520</td>\n",
       "      <td>80</td>\n",
       "      <td>9.592326</td>\n",
       "      <td>75</td>\n",
       "      <td>60.0</td>\n",
       "    </tr>\n",
       "    <tr>\n",
       "      <th>3</th>\n",
       "      <td>(0.3214, 0.3704]</td>\n",
       "      <td>15</td>\n",
       "      <td>30</td>\n",
       "      <td>3.597122</td>\n",
       "      <td>110</td>\n",
       "      <td>13.189448</td>\n",
       "      <td>90</td>\n",
       "      <td>72.0</td>\n",
       "    </tr>\n",
       "    <tr>\n",
       "      <th>4</th>\n",
       "      <td>(0.16, 0.3214]</td>\n",
       "      <td>2</td>\n",
       "      <td>11</td>\n",
       "      <td>1.318945</td>\n",
       "      <td>121</td>\n",
       "      <td>14.508393</td>\n",
       "      <td>92</td>\n",
       "      <td>73.6</td>\n",
       "    </tr>\n",
       "    <tr>\n",
       "      <th>5</th>\n",
       "      <td>(0.112, 0.16]</td>\n",
       "      <td>5</td>\n",
       "      <td>12</td>\n",
       "      <td>1.438849</td>\n",
       "      <td>133</td>\n",
       "      <td>15.947242</td>\n",
       "      <td>97</td>\n",
       "      <td>77.6</td>\n",
       "    </tr>\n",
       "    <tr>\n",
       "      <th>6</th>\n",
       "      <td>(0.1119, 0.112]</td>\n",
       "      <td>10</td>\n",
       "      <td>90</td>\n",
       "      <td>10.791367</td>\n",
       "      <td>223</td>\n",
       "      <td>26.738609</td>\n",
       "      <td>107</td>\n",
       "      <td>85.6</td>\n",
       "    </tr>\n",
       "    <tr>\n",
       "      <th>7</th>\n",
       "      <td>(0.1071, 0.1119]</td>\n",
       "      <td>1</td>\n",
       "      <td>11</td>\n",
       "      <td>1.318945</td>\n",
       "      <td>234</td>\n",
       "      <td>28.057554</td>\n",
       "      <td>108</td>\n",
       "      <td>86.4</td>\n",
       "    </tr>\n",
       "    <tr>\n",
       "      <th>8</th>\n",
       "      <td>(0.03968, 0.1071]</td>\n",
       "      <td>0</td>\n",
       "      <td>11</td>\n",
       "      <td>1.318945</td>\n",
       "      <td>245</td>\n",
       "      <td>29.376499</td>\n",
       "      <td>108</td>\n",
       "      <td>86.4</td>\n",
       "    </tr>\n",
       "    <tr>\n",
       "      <th>9</th>\n",
       "      <td>(0.02814, 0.03968]</td>\n",
       "      <td>3</td>\n",
       "      <td>52</td>\n",
       "      <td>6.235012</td>\n",
       "      <td>297</td>\n",
       "      <td>35.611511</td>\n",
       "      <td>111</td>\n",
       "      <td>88.8</td>\n",
       "    </tr>\n",
       "    <tr>\n",
       "      <th>10</th>\n",
       "      <td>(0.02604, 0.02814]</td>\n",
       "      <td>14</td>\n",
       "      <td>537</td>\n",
       "      <td>64.388489</td>\n",
       "      <td>834</td>\n",
       "      <td>100.000000</td>\n",
       "      <td>125</td>\n",
       "      <td>100.0</td>\n",
       "    </tr>\n",
       "  </tbody>\n",
       "</table>\n",
       "</div>"
      ],
      "text/plain": [
       "           Y_Pred_Prob  y_true  Total    Percent  Cum_Total  Cum_Percent  \\\n",
       "0          (0.96, 1.0]      53     53   6.354916         53     6.354916   \n",
       "1        (0.777, 0.96]      17     22   2.637890         75     8.992806   \n",
       "2      (0.3704, 0.777]       5      5   0.599520         80     9.592326   \n",
       "3     (0.3214, 0.3704]      15     30   3.597122        110    13.189448   \n",
       "4       (0.16, 0.3214]       2     11   1.318945        121    14.508393   \n",
       "5        (0.112, 0.16]       5     12   1.438849        133    15.947242   \n",
       "6      (0.1119, 0.112]      10     90  10.791367        223    26.738609   \n",
       "7     (0.1071, 0.1119]       1     11   1.318945        234    28.057554   \n",
       "8    (0.03968, 0.1071]       0     11   1.318945        245    29.376499   \n",
       "9   (0.02814, 0.03968]       3     52   6.235012        297    35.611511   \n",
       "10  (0.02604, 0.02814]      14    537  64.388489        834   100.000000   \n",
       "\n",
       "    Cum_y_true  Gain_Score  \n",
       "0           53        42.4  \n",
       "1           70        56.0  \n",
       "2           75        60.0  \n",
       "3           90        72.0  \n",
       "4           92        73.6  \n",
       "5           97        77.6  \n",
       "6          107        85.6  \n",
       "7          108        86.4  \n",
       "8          108        86.4  \n",
       "9          111        88.8  \n",
       "10         125       100.0  "
      ]
     },
     "execution_count": 137,
     "metadata": {},
     "output_type": "execute_result"
    }
   ],
   "source": [
    "calc[\"Gain_Score\"]=calc.Cum_y_true/calc.Cum_y_true.iloc[-1]*100\n",
    "calc"
   ]
  },
  {
   "cell_type": "code",
   "execution_count": 138,
   "metadata": {},
   "outputs": [
    {
     "data": {
      "text/html": [
       "<div>\n",
       "<style scoped>\n",
       "    .dataframe tbody tr th:only-of-type {\n",
       "        vertical-align: middle;\n",
       "    }\n",
       "\n",
       "    .dataframe tbody tr th {\n",
       "        vertical-align: top;\n",
       "    }\n",
       "\n",
       "    .dataframe thead th {\n",
       "        text-align: right;\n",
       "    }\n",
       "</style>\n",
       "<table border=\"1\" class=\"dataframe\">\n",
       "  <thead>\n",
       "    <tr style=\"text-align: right;\">\n",
       "      <th></th>\n",
       "      <th>Y_Pred_Prob</th>\n",
       "      <th>y_true</th>\n",
       "      <th>Total</th>\n",
       "      <th>Percent</th>\n",
       "      <th>Cum_Total</th>\n",
       "      <th>Cum_Percent</th>\n",
       "      <th>Cum_y_true</th>\n",
       "      <th>Gain_Score</th>\n",
       "      <th>Lift_Score</th>\n",
       "    </tr>\n",
       "  </thead>\n",
       "  <tbody>\n",
       "    <tr>\n",
       "      <th>0</th>\n",
       "      <td>(0.96, 1.0]</td>\n",
       "      <td>53</td>\n",
       "      <td>53</td>\n",
       "      <td>6.354916</td>\n",
       "      <td>53</td>\n",
       "      <td>6.354916</td>\n",
       "      <td>53</td>\n",
       "      <td>42.4</td>\n",
       "      <td>6.672000</td>\n",
       "    </tr>\n",
       "    <tr>\n",
       "      <th>1</th>\n",
       "      <td>(0.777, 0.96]</td>\n",
       "      <td>17</td>\n",
       "      <td>22</td>\n",
       "      <td>2.637890</td>\n",
       "      <td>75</td>\n",
       "      <td>8.992806</td>\n",
       "      <td>70</td>\n",
       "      <td>56.0</td>\n",
       "      <td>6.227200</td>\n",
       "    </tr>\n",
       "    <tr>\n",
       "      <th>2</th>\n",
       "      <td>(0.3704, 0.777]</td>\n",
       "      <td>5</td>\n",
       "      <td>5</td>\n",
       "      <td>0.599520</td>\n",
       "      <td>80</td>\n",
       "      <td>9.592326</td>\n",
       "      <td>75</td>\n",
       "      <td>60.0</td>\n",
       "      <td>6.255000</td>\n",
       "    </tr>\n",
       "    <tr>\n",
       "      <th>3</th>\n",
       "      <td>(0.3214, 0.3704]</td>\n",
       "      <td>15</td>\n",
       "      <td>30</td>\n",
       "      <td>3.597122</td>\n",
       "      <td>110</td>\n",
       "      <td>13.189448</td>\n",
       "      <td>90</td>\n",
       "      <td>72.0</td>\n",
       "      <td>5.458909</td>\n",
       "    </tr>\n",
       "    <tr>\n",
       "      <th>4</th>\n",
       "      <td>(0.16, 0.3214]</td>\n",
       "      <td>2</td>\n",
       "      <td>11</td>\n",
       "      <td>1.318945</td>\n",
       "      <td>121</td>\n",
       "      <td>14.508393</td>\n",
       "      <td>92</td>\n",
       "      <td>73.6</td>\n",
       "      <td>5.072926</td>\n",
       "    </tr>\n",
       "    <tr>\n",
       "      <th>5</th>\n",
       "      <td>(0.112, 0.16]</td>\n",
       "      <td>5</td>\n",
       "      <td>12</td>\n",
       "      <td>1.438849</td>\n",
       "      <td>133</td>\n",
       "      <td>15.947242</td>\n",
       "      <td>97</td>\n",
       "      <td>77.6</td>\n",
       "      <td>4.866045</td>\n",
       "    </tr>\n",
       "    <tr>\n",
       "      <th>6</th>\n",
       "      <td>(0.1119, 0.112]</td>\n",
       "      <td>10</td>\n",
       "      <td>90</td>\n",
       "      <td>10.791367</td>\n",
       "      <td>223</td>\n",
       "      <td>26.738609</td>\n",
       "      <td>107</td>\n",
       "      <td>85.6</td>\n",
       "      <td>3.201363</td>\n",
       "    </tr>\n",
       "    <tr>\n",
       "      <th>7</th>\n",
       "      <td>(0.1071, 0.1119]</td>\n",
       "      <td>1</td>\n",
       "      <td>11</td>\n",
       "      <td>1.318945</td>\n",
       "      <td>234</td>\n",
       "      <td>28.057554</td>\n",
       "      <td>108</td>\n",
       "      <td>86.4</td>\n",
       "      <td>3.079385</td>\n",
       "    </tr>\n",
       "    <tr>\n",
       "      <th>8</th>\n",
       "      <td>(0.03968, 0.1071]</td>\n",
       "      <td>0</td>\n",
       "      <td>11</td>\n",
       "      <td>1.318945</td>\n",
       "      <td>245</td>\n",
       "      <td>29.376499</td>\n",
       "      <td>108</td>\n",
       "      <td>86.4</td>\n",
       "      <td>2.941127</td>\n",
       "    </tr>\n",
       "    <tr>\n",
       "      <th>9</th>\n",
       "      <td>(0.02814, 0.03968]</td>\n",
       "      <td>3</td>\n",
       "      <td>52</td>\n",
       "      <td>6.235012</td>\n",
       "      <td>297</td>\n",
       "      <td>35.611511</td>\n",
       "      <td>111</td>\n",
       "      <td>88.8</td>\n",
       "      <td>2.493576</td>\n",
       "    </tr>\n",
       "    <tr>\n",
       "      <th>10</th>\n",
       "      <td>(0.02604, 0.02814]</td>\n",
       "      <td>14</td>\n",
       "      <td>537</td>\n",
       "      <td>64.388489</td>\n",
       "      <td>834</td>\n",
       "      <td>100.000000</td>\n",
       "      <td>125</td>\n",
       "      <td>100.0</td>\n",
       "      <td>1.000000</td>\n",
       "    </tr>\n",
       "  </tbody>\n",
       "</table>\n",
       "</div>"
      ],
      "text/plain": [
       "           Y_Pred_Prob  y_true  Total    Percent  Cum_Total  Cum_Percent  \\\n",
       "0          (0.96, 1.0]      53     53   6.354916         53     6.354916   \n",
       "1        (0.777, 0.96]      17     22   2.637890         75     8.992806   \n",
       "2      (0.3704, 0.777]       5      5   0.599520         80     9.592326   \n",
       "3     (0.3214, 0.3704]      15     30   3.597122        110    13.189448   \n",
       "4       (0.16, 0.3214]       2     11   1.318945        121    14.508393   \n",
       "5        (0.112, 0.16]       5     12   1.438849        133    15.947242   \n",
       "6      (0.1119, 0.112]      10     90  10.791367        223    26.738609   \n",
       "7     (0.1071, 0.1119]       1     11   1.318945        234    28.057554   \n",
       "8    (0.03968, 0.1071]       0     11   1.318945        245    29.376499   \n",
       "9   (0.02814, 0.03968]       3     52   6.235012        297    35.611511   \n",
       "10  (0.02604, 0.02814]      14    537  64.388489        834   100.000000   \n",
       "\n",
       "    Cum_y_true  Gain_Score  Lift_Score  \n",
       "0           53        42.4    6.672000  \n",
       "1           70        56.0    6.227200  \n",
       "2           75        60.0    6.255000  \n",
       "3           90        72.0    5.458909  \n",
       "4           92        73.6    5.072926  \n",
       "5           97        77.6    4.866045  \n",
       "6          107        85.6    3.201363  \n",
       "7          108        86.4    3.079385  \n",
       "8          108        86.4    2.941127  \n",
       "9          111        88.8    2.493576  \n",
       "10         125       100.0    1.000000  "
      ]
     },
     "execution_count": 138,
     "metadata": {},
     "output_type": "execute_result"
    }
   ],
   "source": [
    "calc[\"Lift_Score\"]=(calc.Gain_Score/calc.Cum_Percent)\n",
    "calc"
   ]
  },
  {
   "cell_type": "code",
   "execution_count": 95,
   "metadata": {},
   "outputs": [
    {
     "data": {
      "image/png": "[encoded data removed]",
      "text/plain": [
       "<Figure size 432x288 with 1 Axes>"
      ]
     },
     "metadata": {
      "needs_background": "light"
     },
     "output_type": "display_data"
    }
   ],
   "source": [
    "plt.plot(calc.Cum_Percent,calc.Gain_Score)\n",
    "plt.plot(calc.Cum_Percent,calc.Cum_Percent)\n",
    "plt.xlabel(\"% of Customers Contacted/Targeted\")\n",
    "plt.ylabel(\"% Positive Responses\")\n",
    "plt.show()"
   ]
  },
  {
   "cell_type": "code",
   "execution_count": 139,
   "metadata": {},
   "outputs": [
    {
     "data": {
      "image/png": "[encoded data removed]",
      "text/plain": [
       "<Figure size 432x288 with 1 Axes>"
      ]
     },
     "metadata": {
      "needs_background": "light"
     },
     "output_type": "display_data"
    }
   ],
   "source": [
    "plt.plot(calc.Cum_Percent,calc.Lift_Score)\n",
    "plt.axhline(y=1, color=\"red\")\n",
    "plt.show()"
   ]
  },
  {
   "cell_type": "code",
   "execution_count": null,
   "metadata": {},
   "outputs": [],
   "source": []
  }
 ],
 "metadata": {
  "kernelspec": {
   "display_name": "Python 3",
   "language": "python",
   "name": "python3"
  },
  "language_info": {
   "codemirror_mode": {
    "name": "ipython",
    "version": 3
   },
   "file_extension": ".py",
   "mimetype": "text/x-python",
   "name": "python",
   "nbconvert_exporter": "python",
   "pygments_lexer": "ipython3",
   "version": "3.7.1"
  }
 },
 "nbformat": 4,
 "nbformat_minor": 2
}
